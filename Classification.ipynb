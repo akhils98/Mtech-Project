{
 "cells": [
  {
   "cell_type": "code",
   "execution_count": 1,
   "id": "5d54a25b",
   "metadata": {},
   "outputs": [
    {
     "name": "stderr",
     "output_type": "stream",
     "text": [
      "2023-04-28 16:30:29.510183: I tensorflow/core/platform/cpu_feature_guard.cc:193] This TensorFlow binary is optimized with oneAPI Deep Neural Network Library (oneDNN) to use the following CPU instructions in performance-critical operations:  AVX2 FMA\n",
      "To enable them in other operations, rebuild TensorFlow with the appropriate compiler flags.\n",
      "2023-04-28 16:30:29.674898: W tensorflow/compiler/xla/stream_executor/platform/default/dso_loader.cc:64] Could not load dynamic library 'libcudart.so.11.0'; dlerror: libcudart.so.11.0: cannot open shared object file: No such file or directory; LD_LIBRARY_PATH: /home/sanju/ns-allinone-2.35/otcl-1.14:/home/sanju/ns-allinone-2.35/lib\n",
      "2023-04-28 16:30:29.674925: I tensorflow/compiler/xla/stream_executor/cuda/cudart_stub.cc:29] Ignore above cudart dlerror if you do not have a GPU set up on your machine.\n",
      "2023-04-28 16:30:30.619323: W tensorflow/compiler/xla/stream_executor/platform/default/dso_loader.cc:64] Could not load dynamic library 'libnvinfer.so.7'; dlerror: libnvinfer.so.7: cannot open shared object file: No such file or directory; LD_LIBRARY_PATH: /home/sanju/ns-allinone-2.35/otcl-1.14:/home/sanju/ns-allinone-2.35/lib\n",
      "2023-04-28 16:30:30.619525: W tensorflow/compiler/xla/stream_executor/platform/default/dso_loader.cc:64] Could not load dynamic library 'libnvinfer_plugin.so.7'; dlerror: libnvinfer_plugin.so.7: cannot open shared object file: No such file or directory; LD_LIBRARY_PATH: /home/sanju/ns-allinone-2.35/otcl-1.14:/home/sanju/ns-allinone-2.35/lib\n",
      "2023-04-28 16:30:30.619538: W tensorflow/compiler/tf2tensorrt/utils/py_utils.cc:38] TF-TRT Warning: Cannot dlopen some TensorRT libraries. If you would like to use Nvidia GPU with TensorRT, please make sure the missing libraries mentioned above are installed properly.\n"
     ]
    },
    {
     "name": "stdout",
     "output_type": "stream",
     "text": [
      "[name: \"/device:CPU:0\"\n",
      "device_type: \"CPU\"\n",
      "memory_limit: 268435456\n",
      "locality {\n",
      "}\n",
      "incarnation: 389068689045558476\n",
      "xla_global_id: -1\n",
      "]\n"
     ]
    },
    {
     "name": "stderr",
     "output_type": "stream",
     "text": [
      "2023-04-28 16:30:49.524494: I tensorflow/core/platform/cpu_feature_guard.cc:193] This TensorFlow binary is optimized with oneAPI Deep Neural Network Library (oneDNN) to use the following CPU instructions in performance-critical operations:  AVX2 FMA\n",
      "To enable them in other operations, rebuild TensorFlow with the appropriate compiler flags.\n",
      "2023-04-28 16:30:49.795083: E tensorflow/compiler/xla/stream_executor/cuda/cuda_driver.cc:267] failed call to cuInit: CUDA_ERROR_UNKNOWN: unknown error\n",
      "2023-04-28 16:30:49.795309: I tensorflow/compiler/xla/stream_executor/cuda/cuda_diagnostics.cc:156] kernel driver does not appear to be running on this host (sanju-HP-Notebook): /proc/driver/nvidia/version does not exist\n"
     ]
    }
   ],
   "source": [
    "import numpy as np\n",
    "import tensorflow as tf\n",
    "from keras.models import Sequential\n",
    "from keras.layers import Dense\n",
    "from keras.layers import LSTM\n",
    "from sklearn.metrics import roc_curve\n",
    "from sklearn.metrics import roc_auc_score\n",
    "from sklearn.metrics import precision_score, recall_score, f1_score, accuracy_score\n",
    "from sklearn.metrics import matthews_corrcoef\n",
    "from mlxtend.evaluate import bias_variance_decomp\n",
    "import seaborn as sns\n",
    "import pandas as pd\n",
    "import matplotlib.pyplot as plt\n",
    "import os\n",
    "from sklearn.metrics import confusion_matrix\n",
    "from sklearn.model_selection import train_test_split\n",
    "from keras.preprocessing import sequence\n",
    "np.random.seed(7)\n",
    "from keras.utils import pad_sequences\n",
    "\n",
    "from tensorflow.python.client import device_lib\n",
    "print(device_lib.list_local_devices())"
   ]
  },
  {
   "cell_type": "code",
   "execution_count": 2,
   "id": "5fdfbe4d",
   "metadata": {},
   "outputs": [
    {
     "name": "stdout",
     "output_type": "stream",
     "text": [
      "dataset3/0/1-13.csv\n",
      "dataset3/0/1-23.csv\n",
      "dataset3/0/1-12.csv\n",
      "dataset3/0/1-3.csv\n",
      "dataset3/0/1-4.csv\n",
      "dataset3/0/1-17.csv\n",
      "dataset3/0/1-28.csv\n",
      "dataset3/0/1-11.csv\n",
      "dataset3/0/1-27.csv\n",
      "dataset3/0/1-14.csv\n",
      "dataset3/0/1-18.csv\n",
      "dataset3/0/1-19.csv\n",
      "dataset3/0/1-8.csv\n",
      "dataset3/0/1-25.csv\n",
      "dataset3/0/1-22.csv\n",
      "dataset3/0/1-2.csv\n",
      "dataset3/0/1-7.csv\n",
      "dataset3/0/1-24.csv\n",
      "dataset3/0/1-21.csv\n",
      "dataset3/0/1-5.csv\n",
      "dataset3/0/1-15.csv\n",
      "dataset3/0/1-16.csv\n",
      "dataset3/0/1-20.csv\n",
      "dataset3/0/1-1.csv\n",
      "dataset3/0/1-6.csv\n",
      "dataset3/0/1-10.csv\n",
      "dataset3/0/1-30.csv\n",
      "dataset3/0/1-29.csv\n",
      "dataset3/0/1-9.csv\n",
      "dataset3/0/1-26.csv\n",
      "dataset3/1/8.csv\n",
      "dataset3/1/5.csv\n",
      "dataset3/1/13.csv\n",
      "dataset3/1/14.csv\n",
      "dataset3/1/24.csv\n",
      "dataset3/1/10.csv\n",
      "dataset3/1/17.csv\n",
      "dataset3/1/1.csv\n",
      "dataset3/1/3.csv\n",
      "dataset3/1/29.csv\n",
      "dataset3/1/28.csv\n",
      "dataset3/1/26.csv\n",
      "dataset3/1/18.csv\n",
      "dataset3/1/30.csv\n",
      "dataset3/1/22.csv\n",
      "dataset3/1/23.csv\n",
      "dataset3/1/21.csv\n",
      "dataset3/1/16.csv\n",
      "dataset3/1/25.csv\n",
      "dataset3/1/15.csv\n",
      "dataset3/1/4.csv\n",
      "dataset3/1/19.csv\n",
      "dataset3/1/27.csv\n"
     ]
    }
   ],
   "source": [
    "X=[]\n",
    "y=[]\n",
    "base_path='dataset3/'\n",
    "source_path=base_path\n",
    "for child in os.listdir(source_path):\n",
    "    sub_path = os.path.join(source_path, child)\n",
    "    if os.path.isdir(sub_path):\n",
    "        for data_file in os.listdir(sub_path):\n",
    "            file_path = os.path.join(sub_path, data_file)\n",
    "            print(file_path)\n",
    "            data=pd.read_csv(file_path,header=None)\n",
    "            data=data.to_numpy()\n",
    "            X.append(data)\n",
    "            y.append(child)           "
   ]
  },
  {
   "cell_type": "code",
   "execution_count": 3,
   "id": "e75bf665",
   "metadata": {},
   "outputs": [],
   "source": [
    "X_train, X_test, y_train, y_test = train_test_split(X, y,test_size=0.25)"
   ]
  },
  {
   "cell_type": "code",
   "execution_count": 4,
   "id": "dbabeac7",
   "metadata": {},
   "outputs": [],
   "source": [
    "max_review_length = 100\n",
    "X_train = pad_sequences(X_train, maxlen=max_review_length)\n",
    "X_test = pad_sequences(X_test, maxlen=max_review_length)"
   ]
  },
  {
   "cell_type": "code",
   "execution_count": 5,
   "id": "55f0e8e9",
   "metadata": {},
   "outputs": [],
   "source": [
    "X_train=np.array(X_train)\n",
    "y_train=np.array(y_train)"
   ]
  },
  {
   "cell_type": "code",
   "execution_count": 6,
   "id": "6ab743f9",
   "metadata": {},
   "outputs": [],
   "source": [
    "y_train = np.asarray(y_train).astype('float32').reshape((-1,1))\n",
    "y_test = np.asarray(y_test).astype('float32').reshape((-1,1))"
   ]
  },
  {
   "cell_type": "code",
   "execution_count": 7,
   "id": "1bf1c84a",
   "metadata": {},
   "outputs": [
    {
     "name": "stdout",
     "output_type": "stream",
     "text": [
      "Model: \"sequential\"\n",
      "_________________________________________________________________\n",
      " Layer (type)                Output Shape              Param #   \n",
      "=================================================================\n",
      " lstm (LSTM)                 (None, 100, 100)          66000     \n",
      "                                                                 \n",
      " lstm_1 (LSTM)               (None, 100, 50)           30200     \n",
      "                                                                 \n",
      " lstm_2 (LSTM)               (None, 100, 20)           5680      \n",
      "                                                                 \n",
      " lstm_3 (LSTM)               (None, 10)                1240      \n",
      "                                                                 \n",
      " dense (Dense)               (None, 1)                 11        \n",
      "                                                                 \n",
      "=================================================================\n",
      "Total params: 103,131\n",
      "Trainable params: 103,131\n",
      "Non-trainable params: 0\n",
      "_________________________________________________________________\n",
      "None\n",
      "Epoch 1/20\n",
      "3/3 [==============================] - 12s 227ms/step - loss: 0.6982 - accuracy: 0.4872\n",
      "Epoch 2/20\n",
      "3/3 [==============================] - 1s 185ms/step - loss: 0.6877 - accuracy: 0.5385\n",
      "Epoch 3/20\n",
      "3/3 [==============================] - 1s 182ms/step - loss: 0.6706 - accuracy: 0.6154\n",
      "Epoch 4/20\n",
      "3/3 [==============================] - 1s 175ms/step - loss: 0.6315 - accuracy: 0.7949\n",
      "Epoch 5/20\n",
      "3/3 [==============================] - 1s 332ms/step - loss: 0.5117 - accuracy: 0.7179\n",
      "Epoch 6/20\n",
      "3/3 [==============================] - 1s 187ms/step - loss: 0.3658 - accuracy: 0.8718\n",
      "Epoch 7/20\n",
      "3/3 [==============================] - 1s 184ms/step - loss: 0.5051 - accuracy: 0.8462\n",
      "Epoch 8/20\n",
      "3/3 [==============================] - 1s 187ms/step - loss: 0.6214 - accuracy: 0.8462\n",
      "Epoch 9/20\n",
      "3/3 [==============================] - 1s 179ms/step - loss: 0.3341 - accuracy: 0.8718\n",
      "Epoch 10/20\n",
      "3/3 [==============================] - 1s 185ms/step - loss: 0.3850 - accuracy: 0.8205\n",
      "Epoch 11/20\n",
      "3/3 [==============================] - 1s 186ms/step - loss: 0.3468 - accuracy: 0.8205\n",
      "Epoch 12/20\n",
      "3/3 [==============================] - 1s 178ms/step - loss: 0.3628 - accuracy: 0.8205\n",
      "Epoch 13/20\n",
      "3/3 [==============================] - 1s 196ms/step - loss: 0.3551 - accuracy: 0.8462\n",
      "Epoch 14/20\n",
      "3/3 [==============================] - 1s 225ms/step - loss: 0.3376 - accuracy: 0.8718\n",
      "Epoch 15/20\n",
      "3/3 [==============================] - 1s 207ms/step - loss: 0.3175 - accuracy: 0.8462\n",
      "Epoch 16/20\n",
      "3/3 [==============================] - 1s 191ms/step - loss: 0.3247 - accuracy: 0.8718\n",
      "Epoch 17/20\n",
      "3/3 [==============================] - 1s 175ms/step - loss: 0.3083 - accuracy: 0.8974\n",
      "Epoch 18/20\n",
      "3/3 [==============================] - 1s 176ms/step - loss: 0.3227 - accuracy: 0.8974\n",
      "Epoch 19/20\n",
      "3/3 [==============================] - 1s 182ms/step - loss: 0.3230 - accuracy: 0.9231\n",
      "Epoch 20/20\n",
      "3/3 [==============================] - 0s 152ms/step - loss: 9.5437 - accuracy: 0.8974\n"
     ]
    },
    {
     "data": {
      "text/plain": [
       "<keras.callbacks.History at 0x7f86c07d0550>"
      ]
     },
     "execution_count": 7,
     "metadata": {},
     "output_type": "execute_result"
    }
   ],
   "source": [
    "modelClass = Sequential()\n",
    "modelClass.add(LSTM(100, return_sequences=True, input_shape=(100,64)))\n",
    "modelClass.add(LSTM(50, return_sequences=True, activation='relu'))\n",
    "modelClass.add(LSTM(20, return_sequences=True, activation='relu'))\n",
    "modelClass.add(LSTM(10, activation='relu'))\n",
    "modelClass.add(Dense(1, activation='sigmoid'))\n",
    "modelClass.compile(loss='binary_crossentropy', optimizer='adam', metrics=['accuracy'])\n",
    "print(modelClass.summary())\n",
    "modelClass.fit(X_train, y_train, epochs=20, batch_size=16)"
   ]
  },
  {
   "cell_type": "code",
   "execution_count": 8,
   "id": "32eb7ccc",
   "metadata": {},
   "outputs": [
    {
     "name": "stdout",
     "output_type": "stream",
     "text": [
      "Accuracy: 87.18%\n"
     ]
    }
   ],
   "source": [
    "scores = modelClass.evaluate(X_train, y_train, verbose=0)\n",
    "print(\"Accuracy: %.2f%%\" % (scores[1]*100))"
   ]
  },
  {
   "cell_type": "code",
   "execution_count": 9,
   "id": "a4be8528",
   "metadata": {},
   "outputs": [
    {
     "name": "stdout",
     "output_type": "stream",
     "text": [
      "1/1 [==============================] - 1s 989ms/step\n",
      "[[7.2174976e-06]\n",
      " [4.0621302e-07]\n",
      " [9.3352395e-01]\n",
      " [1.6339197e-08]\n",
      " [1.6994572e-09]\n",
      " [6.7566155e-08]\n",
      " [9.9960101e-01]\n",
      " [9.9985242e-01]\n",
      " [6.3398373e-05]\n",
      " [6.7566155e-08]\n",
      " [9.9639958e-01]\n",
      " [6.9799251e-09]\n",
      " [9.9688977e-01]\n",
      " [1.3703067e-08]]\n"
     ]
    }
   ],
   "source": [
    "print(modelClass.predict(X_test))"
   ]
  },
  {
   "cell_type": "code",
   "execution_count": 10,
   "id": "037567fc",
   "metadata": {},
   "outputs": [
    {
     "name": "stdout",
     "output_type": "stream",
     "text": [
      "1/1 [==============================] - 0s 62ms/step\n"
     ]
    }
   ],
   "source": [
    "y_pred = (modelClass.predict(X_test) > 0.5).astype(\"int32\")"
   ]
  },
  {
   "cell_type": "code",
   "execution_count": 11,
   "id": "92c46c54",
   "metadata": {},
   "outputs": [
    {
     "name": "stdout",
     "output_type": "stream",
     "text": [
      "[[0.]\n",
      " [0.]\n",
      " [1.]\n",
      " [0.]\n",
      " [0.]\n",
      " [0.]\n",
      " [1.]\n",
      " [1.]\n",
      " [0.]\n",
      " [0.]\n",
      " [1.]\n",
      " [0.]\n",
      " [1.]\n",
      " [0.]]\n"
     ]
    }
   ],
   "source": [
    "print(y_test)"
   ]
  },
  {
   "cell_type": "code",
   "execution_count": 12,
   "id": "bd82eaa5",
   "metadata": {},
   "outputs": [
    {
     "data": {
      "image/png": "[encoded data removed]",
      "text/plain": [
       "<Figure size 640x480 with 2 Axes>"
      ]
     },
     "metadata": {},
     "output_type": "display_data"
    }
   ],
   "source": [
    "cm = confusion_matrix(y_test,y_pred)\n",
    "sns.heatmap(cm,\n",
    "            annot=True,\n",
    "            fmt='g',\n",
    "            xticklabels=['Abnormal', 'Normal'],\n",
    "            yticklabels=['Abnormal', 'Normal'])\n",
    "plt.ylabel('Prediction',fontsize=13)\n",
    "plt.xlabel('Actual',fontsize=13)\n",
    "plt.title('Confusion Matrix',fontsize=17)\n",
    "plt.show()"
   ]
  },
  {
   "cell_type": "code",
   "execution_count": 13,
   "id": "2e18d18c",
   "metadata": {},
   "outputs": [
    {
     "name": "stdout",
     "output_type": "stream",
     "text": [
      "Precision: 1.000\n"
     ]
    }
   ],
   "source": [
    "print('Precision: %.3f' % precision_score(y_test, y_pred))"
   ]
  },
  {
   "cell_type": "code",
   "execution_count": 14,
   "id": "0ec78bbc",
   "metadata": {},
   "outputs": [
    {
     "name": "stdout",
     "output_type": "stream",
     "text": [
      "Recall: 1.000\n"
     ]
    }
   ],
   "source": [
    "print('Recall: %.3f' % recall_score(y_test, y_pred))"
   ]
  },
  {
   "cell_type": "code",
   "execution_count": 15,
   "id": "639e35fd",
   "metadata": {},
   "outputs": [
    {
     "name": "stdout",
     "output_type": "stream",
     "text": [
      "1.0\n"
     ]
    }
   ],
   "source": [
    "print(matthews_corrcoef(y_test, y_pred))"
   ]
  },
  {
   "cell_type": "code",
   "execution_count": 16,
   "id": "bb2e1522",
   "metadata": {},
   "outputs": [],
   "source": [
    "# roc curve for tpr = fpr \n",
    "random_probs = [0 for i in range(len(y_test))]\n",
    "p_fpr, p_tpr, _ = roc_curve(y_test, random_probs, pos_label=1)"
   ]
  },
  {
   "cell_type": "code",
   "execution_count": 17,
   "id": "0512ccf7",
   "metadata": {},
   "outputs": [],
   "source": [
    "fpr1, tpr1, thresholds_keras = roc_curve(y_test, y_pred)"
   ]
  },
  {
   "cell_type": "code",
   "execution_count": 18,
   "id": "cbae7259",
   "metadata": {},
   "outputs": [
    {
     "data": {
      "text/plain": [
       "Text(0, 0.5, 'True Positive rate')"
      ]
     },
     "execution_count": 18,
     "metadata": {},
     "output_type": "execute_result"
    },
    {
     "data": {
      "image/png": "[encoded data removed]",
      "text/plain": [
       "<Figure size 640x480 with 1 Axes>"
      ]
     },
     "metadata": {},
     "output_type": "display_data"
    }
   ],
   "source": [
    "plt.plot(fpr1, tpr1, linestyle='--',color='orange', label='LSTM')\n",
    "plt.plot(p_fpr, p_tpr, linestyle='--', color='blue')\n",
    "# title\n",
    "plt.title('ROC curve')\n",
    "# x label\n",
    "plt.xlabel('False Positive Rate')\n",
    "# y label\n",
    "plt.ylabel('True Positive rate')"
   ]
  },
  {
   "cell_type": "code",
   "execution_count": 19,
   "id": "05b11008",
   "metadata": {},
   "outputs": [
    {
     "name": "stdout",
     "output_type": "stream",
     "text": [
      "1.0\n"
     ]
    }
   ],
   "source": [
    "auc_score1 = roc_auc_score(y_test, y_pred)\n",
    "print(auc_score1)"
   ]
  },
  {
   "cell_type": "code",
   "execution_count": 20,
   "id": "59a3dc45",
   "metadata": {},
   "outputs": [
    {
     "data": {
      "text/plain": [
       "['0',\n",
       " '0',\n",
       " '0',\n",
       " '0',\n",
       " '0',\n",
       " '0',\n",
       " '0',\n",
       " '0',\n",
       " '0',\n",
       " '0',\n",
       " '0',\n",
       " '0',\n",
       " '0',\n",
       " '0',\n",
       " '0',\n",
       " '0',\n",
       " '0',\n",
       " '0',\n",
       " '0',\n",
       " '0',\n",
       " '0',\n",
       " '0',\n",
       " '0',\n",
       " '0',\n",
       " '0',\n",
       " '0',\n",
       " '0',\n",
       " '0',\n",
       " '0',\n",
       " '0',\n",
       " '1',\n",
       " '1',\n",
       " '1',\n",
       " '1',\n",
       " '1',\n",
       " '1',\n",
       " '1',\n",
       " '1',\n",
       " '1',\n",
       " '1',\n",
       " '1',\n",
       " '1',\n",
       " '1',\n",
       " '1',\n",
       " '1',\n",
       " '1',\n",
       " '1',\n",
       " '1',\n",
       " '1',\n",
       " '1',\n",
       " '1',\n",
       " '1',\n",
       " '1']"
      ]
     },
     "execution_count": 20,
     "metadata": {},
     "output_type": "execute_result"
    }
   ],
   "source": [
    "y"
   ]
  },
  {
   "cell_type": "code",
   "execution_count": null,
   "id": "1db82c36",
   "metadata": {},
   "outputs": [],
   "source": []
  }
 ],
 "metadata": {
  "kernelspec": {
   "display_name": "Python 3 (ipykernel)",
   "language": "python",
   "name": "python3"
  },
  "language_info": {
   "codemirror_mode": {
    "name": "ipython",
    "version": 3
   },
   "file_extension": ".py",
   "mimetype": "text/x-python",
   "name": "python",
   "nbconvert_exporter": "python",
   "pygments_lexer": "ipython3",
   "version": "3.10.6"
  }
 },
 "nbformat": 4,
 "nbformat_minor": 5
}
