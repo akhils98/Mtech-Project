{
 "cells": [
  {
   "cell_type": "code",
   "execution_count": 15,
   "id": "495356b3",
   "metadata": {},
   "outputs": [
    {
     "name": "stdout",
     "output_type": "stream",
     "text": [
      "Ignoring empty camera frame.\n"
     ]
    }
   ],
   "source": [
    "import cv2\n",
    "import mediapipe as mp\n",
    "import pandas as pd\n",
    "mp_drawing = mp.solutions.drawing_utils\n",
    "mp_drawing_styles = mp.solutions.drawing_styles\n",
    "mp_hands = mp.solutions.hands\n",
    "# For static images:\n",
    "hands = mp_hands.Hands(\n",
    "    static_image_mode=False,\n",
    "    max_num_hands=2,\n",
    "    min_detection_confidence=0.5)\n",
    "\n",
    "cap = cv2.VideoCapture(\"A12.mp4\")\n",
    "alldata = []\n",
    "pose_tangan = []\n",
    "while cap.isOpened():\n",
    "    success, image = cap.read()\n",
    "    if not success:\n",
    "        print(\"Ignoring empty camera frame.\")\n",
    "      # If loading a video, use 'break' instead of 'continue'.\n",
    "        break\n",
    "\n",
    "    image = cv2.cvtColor(image, cv2.COLOR_BGR2RGB)\n",
    "    results = hands.process(image)\n",
    "\n",
    "    # Draw the hand annotations on the image.\n",
    "    image = cv2.cvtColor(image, cv2.COLOR_RGB2BGR)\n",
    "    if results.multi_hand_landmarks:\n",
    "        pose_tangan=[]\n",
    "        for hand_landmarks in results.multi_hand_landmarks:\n",
    "            mp_drawing.draw_landmarks(image,\n",
    "            hand_landmarks,\n",
    "            mp_hands.HAND_CONNECTIONS,\n",
    "            mp_drawing_styles.get_default_hand_landmarks_style(),\n",
    "            mp_drawing_styles.get_default_hand_connections_style())\n",
    "        for i in range(21):\n",
    "            u= hand_landmarks.landmark[mp_hands.HandLandmark(i)].x-hand_landmarks.landmark[mp_hands.HandLandmark(0)].x\n",
    "            v= hand_landmarks.landmark[mp_hands.HandLandmark(i)].y-hand_landmarks.landmark[mp_hands.HandLandmark(0)].y\n",
    "            w= hand_landmarks.landmark[mp_hands.HandLandmark(i)].z-hand_landmarks.landmark[mp_hands.HandLandmark(0)].z\n",
    "            #print(u)\n",
    "            #print(v)\n",
    "            #print(w)\n",
    "            \n",
    "            pose_tangan.append(u)\n",
    "            pose_tangan.append(v)\n",
    "            pose_tangan.append(w)\n",
    "    alldata.append(pose_tangan)    \n",
    "    # Flip the image horizontally for a selfie-view display.\n",
    "    cv2.imshow('MediaPipe Hands', cv2.flip(image, 1))\n",
    "    if cv2.waitKey(25) & 0xFF == ord('r'):\n",
    "        break\n",
    "df = pd.DataFrame(alldata)\n",
    "df.to_csv(\"1-12.csv\")\n",
    "cap.release()\n",
    "cv2.destroyAllWindows()"
   ]
  },
  {
   "cell_type": "code",
   "execution_count": null,
   "id": "41492b93",
   "metadata": {},
   "outputs": [],
   "source": []
  }
 ],
 "metadata": {
  "kernelspec": {
   "display_name": "Python 3 (ipykernel)",
   "language": "python",
   "name": "python3"
  },
  "language_info": {
   "codemirror_mode": {
    "name": "ipython",
    "version": 3
   },
   "file_extension": ".py",
   "mimetype": "text/x-python",
   "name": "python",
   "nbconvert_exporter": "python",
   "pygments_lexer": "ipython3",
   "version": "3.10.6"
  }
 },
 "nbformat": 4,
 "nbformat_minor": 5
}
