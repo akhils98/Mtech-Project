{
 "cells": [
  {
   "cell_type": "code",
   "execution_count": 3,
   "id": "c2958e07",
   "metadata": {},
   "outputs": [
    {
     "name": "stderr",
     "output_type": "stream",
     "text": [
      "2023-04-28 16:29:56.847766: I tensorflow/core/platform/cpu_feature_guard.cc:193] This TensorFlow binary is optimized with oneAPI Deep Neural Network Library (oneDNN) to use the following CPU instructions in performance-critical operations:  AVX2 FMA\n",
      "To enable them in other operations, rebuild TensorFlow with the appropriate compiler flags.\n",
      "2023-04-28 16:30:05.180072: W tensorflow/compiler/xla/stream_executor/platform/default/dso_loader.cc:64] Could not load dynamic library 'libcudart.so.11.0'; dlerror: libcudart.so.11.0: cannot open shared object file: No such file or directory; LD_LIBRARY_PATH: /home/sanju/ns-allinone-2.35/otcl-1.14:/home/sanju/ns-allinone-2.35/lib\n",
      "2023-04-28 16:30:05.180173: I tensorflow/compiler/xla/stream_executor/cuda/cudart_stub.cc:29] Ignore above cudart dlerror if you do not have a GPU set up on your machine.\n",
      "2023-04-28 16:30:24.931574: W tensorflow/compiler/xla/stream_executor/platform/default/dso_loader.cc:64] Could not load dynamic library 'libnvinfer.so.7'; dlerror: libnvinfer.so.7: cannot open shared object file: No such file or directory; LD_LIBRARY_PATH: /home/sanju/ns-allinone-2.35/otcl-1.14:/home/sanju/ns-allinone-2.35/lib\n",
      "2023-04-28 16:30:24.932344: W tensorflow/compiler/xla/stream_executor/platform/default/dso_loader.cc:64] Could not load dynamic library 'libnvinfer_plugin.so.7'; dlerror: libnvinfer_plugin.so.7: cannot open shared object file: No such file or directory; LD_LIBRARY_PATH: /home/sanju/ns-allinone-2.35/otcl-1.14:/home/sanju/ns-allinone-2.35/lib\n",
      "2023-04-28 16:30:24.932409: W tensorflow/compiler/tf2tensorrt/utils/py_utils.cc:38] TF-TRT Warning: Cannot dlopen some TensorRT libraries. If you would like to use Nvidia GPU with TensorRT, please make sure the missing libraries mentioned above are installed properly.\n"
     ]
    },
    {
     "name": "stdout",
     "output_type": "stream",
     "text": [
      "[name: \"/device:CPU:0\"\n",
      "device_type: \"CPU\"\n",
      "memory_limit: 268435456\n",
      "locality {\n",
      "}\n",
      "incarnation: 3894133669641828795\n",
      "xla_global_id: -1\n",
      "]\n"
     ]
    },
    {
     "name": "stderr",
     "output_type": "stream",
     "text": [
      "2023-04-28 16:30:49.524554: I tensorflow/core/platform/cpu_feature_guard.cc:193] This TensorFlow binary is optimized with oneAPI Deep Neural Network Library (oneDNN) to use the following CPU instructions in performance-critical operations:  AVX2 FMA\n",
      "To enable them in other operations, rebuild TensorFlow with the appropriate compiler flags.\n",
      "2023-04-28 16:30:49.795082: E tensorflow/compiler/xla/stream_executor/cuda/cuda_driver.cc:267] failed call to cuInit: CUDA_ERROR_UNKNOWN: unknown error\n",
      "2023-04-28 16:30:49.795320: I tensorflow/compiler/xla/stream_executor/cuda/cuda_diagnostics.cc:156] kernel driver does not appear to be running on this host (sanju-HP-Notebook): /proc/driver/nvidia/version does not exist\n"
     ]
    }
   ],
   "source": [
    "import numpy as np\n",
    "from keras.models import Sequential\n",
    "from keras.layers import Dense\n",
    "from keras.layers import LSTM\n",
    "from sklearn.metrics import roc_curve\n",
    "from sklearn.metrics import roc_auc_score\n",
    "\n",
    "import seaborn as sns\n",
    "import pandas as pd\n",
    "import matplotlib.pyplot as plt\n",
    "from sklearn.metrics import precision_score, recall_score, f1_score, accuracy_score\n",
    "from sklearn.metrics import matthews_corrcoef\n",
    "import os\n",
    "from sklearn.metrics import confusion_matrix\n",
    "from sklearn.model_selection import train_test_split\n",
    "from keras.preprocessing import sequence\n",
    "np.random.seed(7)\n",
    "from keras.utils import pad_sequences\n",
    "\n",
    "from tensorflow.python.client import device_lib\n",
    "print(device_lib.list_local_devices())\n"
   ]
  },
  {
   "cell_type": "code",
   "execution_count": 4,
   "id": "d5126bba",
   "metadata": {},
   "outputs": [
    {
     "name": "stdout",
     "output_type": "stream",
     "text": [
      "dataset1/0/1-13.csv\n",
      "dataset1/0/1-23.csv\n",
      "dataset1/0/1-12.csv\n",
      "dataset1/0/1-3.csv\n",
      "dataset1/0/1-4.csv\n",
      "dataset1/0/1-17.csv\n",
      "dataset1/0/1-28.csv\n",
      "dataset1/0/1-11.csv\n",
      "dataset1/0/1-27.csv\n",
      "dataset1/0/1-14.csv\n",
      "dataset1/0/1-18.csv\n",
      "dataset1/0/1-19.csv\n",
      "dataset1/0/1-8.csv\n",
      "dataset1/0/1-25.csv\n",
      "dataset1/0/1-22.csv\n",
      "dataset1/0/1-2.csv\n",
      "dataset1/0/1-7.csv\n",
      "dataset1/0/1-24.csv\n",
      "dataset1/0/1-31.csv\n",
      "dataset1/0/1-21.csv\n",
      "dataset1/0/1-5.csv\n",
      "dataset1/0/1-15.csv\n",
      "dataset1/0/1-16.csv\n",
      "dataset1/0/1-20.csv\n",
      "dataset1/0/1-1.csv\n",
      "dataset1/0/1-6.csv\n",
      "dataset1/0/1-10.csv\n",
      "dataset1/0/1-30.csv\n",
      "dataset1/0/1-32.csv\n",
      "dataset1/0/1-29.csv\n",
      "dataset1/0/1-9.csv\n",
      "dataset1/0/1-26.csv\n",
      "dataset1/1/8.csv\n",
      "dataset1/1/5.csv\n",
      "dataset1/1/13.csv\n",
      "dataset1/1/14.csv\n",
      "dataset1/1/24.csv\n",
      "dataset1/1/10.csv\n",
      "dataset1/1/9.csv\n",
      "dataset1/1/17.csv\n",
      "dataset1/1/1.csv\n",
      "dataset1/1/3.csv\n",
      "dataset1/1/6.csv\n",
      "dataset1/1/29.csv\n",
      "dataset1/1/28.csv\n",
      "dataset1/1/26.csv\n",
      "dataset1/1/18.csv\n",
      "dataset1/1/30.csv\n",
      "dataset1/1/7.csv\n",
      "dataset1/1/22.csv\n",
      "dataset1/1/23.csv\n",
      "dataset1/1/21.csv\n",
      "dataset1/1/16.csv\n",
      "dataset1/1/25.csv\n",
      "dataset1/1/2.csv\n",
      "dataset1/1/15.csv\n",
      "dataset1/1/4.csv\n",
      "dataset1/1/11.csv\n",
      "dataset1/1/12.csv\n",
      "dataset1/1/20.csv\n",
      "dataset1/1/19.csv\n",
      "dataset1/1/27.csv\n"
     ]
    }
   ],
   "source": [
    "X=[]\n",
    "y=[]\n",
    "base_path='dataset1/'\n",
    "source_path=base_path\n",
    "for child in os.listdir(source_path):\n",
    "    sub_path = os.path.join(source_path, child)\n",
    "    if os.path.isdir(sub_path):\n",
    "        for data_file in os.listdir(sub_path):\n",
    "            file_path = os.path.join(sub_path, data_file)\n",
    "            print(file_path)\n",
    "            data=pd.read_csv(file_path,header=None)\n",
    "            data=data.to_numpy()\n",
    "            X.append(data)\n",
    "            y.append(child)           "
   ]
  },
  {
   "cell_type": "code",
   "execution_count": 34,
   "id": "b5f7316c",
   "metadata": {},
   "outputs": [],
   "source": [
    "X_train, X_test, y_train, y_test = train_test_split(X, y,test_size=0.25)"
   ]
  },
  {
   "cell_type": "code",
   "execution_count": 35,
   "id": "854a7684",
   "metadata": {},
   "outputs": [],
   "source": [
    "max_review_length = 100\n",
    "X_train = pad_sequences(X_train, maxlen=max_review_length)\n",
    "X_test = pad_sequences(X_test, maxlen=max_review_length)"
   ]
  },
  {
   "cell_type": "code",
   "execution_count": 36,
   "id": "7e1289c5",
   "metadata": {},
   "outputs": [],
   "source": [
    "X_train=np.array(X_train)\n",
    "y_train=np.array(y_train)"
   ]
  },
  {
   "cell_type": "code",
   "execution_count": 37,
   "id": "02c79bf5",
   "metadata": {},
   "outputs": [],
   "source": [
    "y_train = np.asarray(y_train).astype('float32').reshape((-1,1))\n",
    "y_test = np.asarray(y_test).astype('float32').reshape((-1,1))"
   ]
  },
  {
   "cell_type": "code",
   "execution_count": 38,
   "id": "5affeb3a",
   "metadata": {},
   "outputs": [
    {
     "name": "stdout",
     "output_type": "stream",
     "text": [
      "Model: \"sequential_1\"\n",
      "_________________________________________________________________\n",
      " Layer (type)                Output Shape              Param #   \n",
      "=================================================================\n",
      " lstm_4 (LSTM)               (None, 100, 100)          66000     \n",
      "                                                                 \n",
      " lstm_5 (LSTM)               (None, 100, 50)           30200     \n",
      "                                                                 \n",
      " lstm_6 (LSTM)               (None, 100, 20)           5680      \n",
      "                                                                 \n",
      " lstm_7 (LSTM)               (None, 10)                1240      \n",
      "                                                                 \n",
      " dense_1 (Dense)             (None, 1)                 11        \n",
      "                                                                 \n",
      "=================================================================\n",
      "Total params: 103,131\n",
      "Trainable params: 103,131\n",
      "Non-trainable params: 0\n",
      "_________________________________________________________________\n",
      "None\n",
      "Epoch 1/20\n",
      "3/3 [==============================] - 6s 146ms/step - loss: 0.6914 - accuracy: 0.5870\n",
      "Epoch 2/20\n",
      "3/3 [==============================] - 0s 147ms/step - loss: 0.6828 - accuracy: 0.5870\n",
      "Epoch 3/20\n",
      "3/3 [==============================] - 0s 138ms/step - loss: 0.6758 - accuracy: 0.5870\n",
      "Epoch 4/20\n",
      "3/3 [==============================] - 0s 142ms/step - loss: 0.6628 - accuracy: 0.5870\n",
      "Epoch 5/20\n",
      "3/3 [==============================] - 0s 139ms/step - loss: 1011184.8750 - accuracy: 0.5870\n",
      "Epoch 6/20\n",
      "3/3 [==============================] - 0s 137ms/step - loss: 0.6545 - accuracy: 0.5870\n",
      "Epoch 7/20\n",
      "3/3 [==============================] - 0s 140ms/step - loss: 0.6664 - accuracy: 0.5870\n",
      "Epoch 8/20\n",
      "3/3 [==============================] - 0s 141ms/step - loss: 0.6710 - accuracy: 0.5652\n",
      "Epoch 9/20\n",
      "3/3 [==============================] - 0s 139ms/step - loss: 0.6721 - accuracy: 0.5870\n",
      "Epoch 10/20\n",
      "3/3 [==============================] - 0s 139ms/step - loss: 0.6720 - accuracy: 0.7174\n",
      "Epoch 11/20\n",
      "3/3 [==============================] - 0s 141ms/step - loss: 0.6701 - accuracy: 0.7174\n",
      "Epoch 12/20\n",
      "3/3 [==============================] - 0s 135ms/step - loss: 0.6685 - accuracy: 0.7174\n",
      "Epoch 13/20\n",
      "3/3 [==============================] - 0s 141ms/step - loss: 0.6651 - accuracy: 0.7174\n",
      "Epoch 14/20\n",
      "3/3 [==============================] - 0s 138ms/step - loss: 0.6615 - accuracy: 0.7174\n",
      "Epoch 15/20\n",
      "3/3 [==============================] - 0s 138ms/step - loss: 0.6557 - accuracy: 0.7174\n",
      "Epoch 16/20\n",
      "3/3 [==============================] - 0s 141ms/step - loss: 0.6488 - accuracy: 0.6957\n",
      "Epoch 17/20\n",
      "3/3 [==============================] - 0s 148ms/step - loss: 0.6326 - accuracy: 0.6957\n",
      "Epoch 18/20\n",
      "3/3 [==============================] - 0s 138ms/step - loss: 0.6159 - accuracy: 0.6957\n",
      "Epoch 19/20\n",
      "3/3 [==============================] - 0s 152ms/step - loss: 0.6031 - accuracy: 0.6957\n",
      "Epoch 20/20\n",
      "3/3 [==============================] - 0s 150ms/step - loss: 0.5915 - accuracy: 0.6739\n"
     ]
    },
    {
     "data": {
      "text/plain": [
       "<keras.callbacks.History at 0x7fdf73c9a230>"
      ]
     },
     "execution_count": 38,
     "metadata": {},
     "output_type": "execute_result"
    }
   ],
   "source": [
    "modelClass = Sequential()\n",
    "modelClass.add(LSTM(100, return_sequences=True, input_shape=(100,64)))\n",
    "modelClass.add(LSTM(50, return_sequences=True, activation='relu'))\n",
    "modelClass.add(LSTM(20, return_sequences=True, activation='relu'))\n",
    "modelClass.add(LSTM(10, activation='relu'))\n",
    "modelClass.add(Dense(1, activation='sigmoid'))\n",
    "modelClass.compile(loss='binary_crossentropy', optimizer='adam', metrics=['accuracy'])\n",
    "print(modelClass.summary())\n",
    "modelClass.fit(X_train, y_train, epochs=20, batch_size=16)"
   ]
  },
  {
   "cell_type": "code",
   "execution_count": 39,
   "id": "4ca8b6f3",
   "metadata": {},
   "outputs": [
    {
     "name": "stdout",
     "output_type": "stream",
     "text": [
      "Accuracy: 67.39%\n"
     ]
    }
   ],
   "source": [
    "scores = modelClass.evaluate(X_train, y_train, verbose=0)\n",
    "print(\"Accuracy: %.2f%%\" % (scores[1]*100))"
   ]
  },
  {
   "cell_type": "code",
   "execution_count": 40,
   "id": "cf51647a",
   "metadata": {},
   "outputs": [
    {
     "name": "stdout",
     "output_type": "stream",
     "text": [
      "1/1 [==============================] - 1s 758ms/step\n"
     ]
    }
   ],
   "source": [
    "y_pred = (modelClass.predict(X_test) > 0.5).astype(\"int32\")"
   ]
  },
  {
   "cell_type": "code",
   "execution_count": 41,
   "id": "8e407c9f",
   "metadata": {},
   "outputs": [
    {
     "name": "stdout",
     "output_type": "stream",
     "text": [
      "[[1]\n",
      " [0]\n",
      " [0]\n",
      " [0]\n",
      " [0]\n",
      " [1]\n",
      " [1]\n",
      " [0]\n",
      " [1]\n",
      " [1]\n",
      " [1]\n",
      " [0]\n",
      " [0]\n",
      " [0]\n",
      " [0]\n",
      " [1]]\n"
     ]
    }
   ],
   "source": [
    "print(y_pred)"
   ]
  },
  {
   "cell_type": "code",
   "execution_count": 42,
   "id": "4011d1c0",
   "metadata": {},
   "outputs": [
    {
     "name": "stdout",
     "output_type": "stream",
     "text": [
      "[[1.]\n",
      " [1.]\n",
      " [1.]\n",
      " [1.]\n",
      " [1.]\n",
      " [1.]\n",
      " [1.]\n",
      " [1.]\n",
      " [0.]\n",
      " [1.]\n",
      " [1.]\n",
      " [0.]\n",
      " [0.]\n",
      " [0.]\n",
      " [0.]\n",
      " [1.]]\n"
     ]
    }
   ],
   "source": [
    "print(y_test)"
   ]
  },
  {
   "cell_type": "code",
   "execution_count": 54,
   "id": "eafe5bd5",
   "metadata": {},
   "outputs": [],
   "source": [
    "cm = confusion_matrix(y_test,y_pred)"
   ]
  },
  {
   "cell_type": "code",
   "execution_count": 55,
   "id": "04db3da7",
   "metadata": {},
   "outputs": [
    {
     "data": {
      "image/png": "[encoded data removed]",
      "text/plain": [
       "<Figure size 640x480 with 2 Axes>"
      ]
     },
     "metadata": {},
     "output_type": "display_data"
    }
   ],
   "source": [
    "sns.heatmap(cm,\n",
    "            annot=True,\n",
    "            fmt='g',\n",
    "            xticklabels=['Abnormal', 'Normal'],\n",
    "            yticklabels=['Abnormal', 'Normal'])\n",
    "plt.ylabel('Prediction',fontsize=13)\n",
    "plt.xlabel('Actual',fontsize=13)\n",
    "plt.title('Confusion Matrix',fontsize=17)\n",
    "plt.show()"
   ]
  },
  {
   "cell_type": "code",
   "execution_count": 56,
   "id": "a84811d9",
   "metadata": {},
   "outputs": [
    {
     "name": "stdout",
     "output_type": "stream",
     "text": [
      "Precision: 0.857\n"
     ]
    }
   ],
   "source": [
    "print('Precision: %.3f' % precision_score(y_test, y_pred))"
   ]
  },
  {
   "cell_type": "code",
   "execution_count": 57,
   "id": "cb03d0d4",
   "metadata": {},
   "outputs": [
    {
     "name": "stdout",
     "output_type": "stream",
     "text": [
      "Recall: 0.545\n"
     ]
    }
   ],
   "source": [
    "print('Recall: %.3f' % recall_score(y_test, y_pred))"
   ]
  },
  {
   "cell_type": "code",
   "execution_count": 58,
   "id": "80734e9e",
   "metadata": {},
   "outputs": [
    {
     "name": "stdout",
     "output_type": "stream",
     "text": [
      "0.32277655457716287\n"
     ]
    }
   ],
   "source": [
    "print(matthews_corrcoef(y_test, y_pred))"
   ]
  },
  {
   "cell_type": "code",
   "execution_count": 59,
   "id": "db17eabf",
   "metadata": {},
   "outputs": [],
   "source": [
    "# roc curve for tpr = fpr \n",
    "random_probs = [0 for i in range(len(y_test))]\n",
    "p_fpr, p_tpr, _ = roc_curve(y_test, random_probs, pos_label=1)"
   ]
  },
  {
   "cell_type": "code",
   "execution_count": 60,
   "id": "d3f6748f",
   "metadata": {},
   "outputs": [],
   "source": [
    "fpr1, tpr1, thresholds_keras = roc_curve(y_test, y_pred)"
   ]
  },
  {
   "cell_type": "code",
   "execution_count": 61,
   "id": "db025c3f",
   "metadata": {},
   "outputs": [
    {
     "data": {
      "text/plain": [
       "Text(0, 0.5, 'True Positive rate')"
      ]
     },
     "execution_count": 61,
     "metadata": {},
     "output_type": "execute_result"
    },
    {
     "data": {
      "image/png": "[encoded data removed]",
      "text/plain": [
       "<Figure size 640x480 with 1 Axes>"
      ]
     },
     "metadata": {},
     "output_type": "display_data"
    }
   ],
   "source": [
    "plt.plot(fpr1, tpr1, linestyle='--',color='orange', label='LSTM')\n",
    "plt.plot(p_fpr, p_tpr, linestyle='--', color='blue')\n",
    "# title\n",
    "plt.title('ROC curve')\n",
    "# x label\n",
    "plt.xlabel('False Positive Rate')\n",
    "# y label\n",
    "plt.ylabel('True Positive rate')"
   ]
  },
  {
   "cell_type": "code",
   "execution_count": 51,
   "id": "2e5907e1",
   "metadata": {},
   "outputs": [
    {
     "name": "stdout",
     "output_type": "stream",
     "text": [
      "0.6727272727272727\n"
     ]
    }
   ],
   "source": [
    "auc_score1 = roc_auc_score(y_test, y_pred)\n",
    "print(auc_score1)"
   ]
  },
  {
   "cell_type": "code",
   "execution_count": 24,
   "id": "d2d8e664",
   "metadata": {},
   "outputs": [
    {
     "data": {
      "text/plain": [
       "['0',\n",
       " '0',\n",
       " '0',\n",
       " '0',\n",
       " '0',\n",
       " '0',\n",
       " '0',\n",
       " '0',\n",
       " '0',\n",
       " '0',\n",
       " '0',\n",
       " '0',\n",
       " '0',\n",
       " '0',\n",
       " '0',\n",
       " '0',\n",
       " '0',\n",
       " '0',\n",
       " '0',\n",
       " '0',\n",
       " '0',\n",
       " '0',\n",
       " '0',\n",
       " '0',\n",
       " '0',\n",
       " '0',\n",
       " '0',\n",
       " '0',\n",
       " '0',\n",
       " '0',\n",
       " '0',\n",
       " '0',\n",
       " '1',\n",
       " '1',\n",
       " '1',\n",
       " '1',\n",
       " '1',\n",
       " '1',\n",
       " '1',\n",
       " '1',\n",
       " '1',\n",
       " '1',\n",
       " '1',\n",
       " '1',\n",
       " '1',\n",
       " '1',\n",
       " '1',\n",
       " '1',\n",
       " '1',\n",
       " '1',\n",
       " '1',\n",
       " '1',\n",
       " '1',\n",
       " '1',\n",
       " '1',\n",
       " '1',\n",
       " '1',\n",
       " '1',\n",
       " '1',\n",
       " '1',\n",
       " '1',\n",
       " '1']"
      ]
     },
     "execution_count": 24,
     "metadata": {},
     "output_type": "execute_result"
    }
   ],
   "source": [
    "y"
   ]
  },
  {
   "cell_type": "code",
   "execution_count": 32,
   "id": "22d2b5dd",
   "metadata": {},
   "outputs": [
    {
     "data": {
      "text/plain": [
       "30"
      ]
     },
     "execution_count": 32,
     "metadata": {},
     "output_type": "execute_result"
    }
   ],
   "source": [
    "y.count('1')"
   ]
  },
  {
   "cell_type": "code",
   "execution_count": 33,
   "id": "425df88a",
   "metadata": {},
   "outputs": [
    {
     "data": {
      "text/plain": [
       "32"
      ]
     },
     "execution_count": 33,
     "metadata": {},
     "output_type": "execute_result"
    }
   ],
   "source": [
    "y.count('0')"
   ]
  },
  {
   "cell_type": "code",
   "execution_count": null,
   "id": "c0566c6c",
   "metadata": {},
   "outputs": [],
   "source": []
  }
 ],
 "metadata": {
  "kernelspec": {
   "display_name": "Python 3 (ipykernel)",
   "language": "python",
   "name": "python3"
  },
  "language_info": {
   "codemirror_mode": {
    "name": "ipython",
    "version": 3
   },
   "file_extension": ".py",
   "mimetype": "text/x-python",
   "name": "python",
   "nbconvert_exporter": "python",
   "pygments_lexer": "ipython3",
   "version": "3.10.6"
  }
 },
 "nbformat": 4,
 "nbformat_minor": 5
}
