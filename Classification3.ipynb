{
 "cells": [
  {
   "cell_type": "code",
   "execution_count": 1,
   "id": "cd840ad7",
   "metadata": {},
   "outputs": [
    {
     "name": "stderr",
     "output_type": "stream",
     "text": [
      "2023-04-20 11:25:47.486800: I tensorflow/core/platform/cpu_feature_guard.cc:193] This TensorFlow binary is optimized with oneAPI Deep Neural Network Library (oneDNN) to use the following CPU instructions in performance-critical operations:  AVX2 FMA\n",
      "To enable them in other operations, rebuild TensorFlow with the appropriate compiler flags.\n",
      "2023-04-20 11:25:47.627038: W tensorflow/compiler/xla/stream_executor/platform/default/dso_loader.cc:64] Could not load dynamic library 'libcudart.so.11.0'; dlerror: libcudart.so.11.0: cannot open shared object file: No such file or directory; LD_LIBRARY_PATH: /home/sanju/ns-allinone-2.35/otcl-1.14:/home/sanju/ns-allinone-2.35/lib\n",
      "2023-04-20 11:25:47.627061: I tensorflow/compiler/xla/stream_executor/cuda/cudart_stub.cc:29] Ignore above cudart dlerror if you do not have a GPU set up on your machine.\n",
      "2023-04-20 11:25:48.473882: W tensorflow/compiler/xla/stream_executor/platform/default/dso_loader.cc:64] Could not load dynamic library 'libnvinfer.so.7'; dlerror: libnvinfer.so.7: cannot open shared object file: No such file or directory; LD_LIBRARY_PATH: /home/sanju/ns-allinone-2.35/otcl-1.14:/home/sanju/ns-allinone-2.35/lib\n",
      "2023-04-20 11:25:48.474011: W tensorflow/compiler/xla/stream_executor/platform/default/dso_loader.cc:64] Could not load dynamic library 'libnvinfer_plugin.so.7'; dlerror: libnvinfer_plugin.so.7: cannot open shared object file: No such file or directory; LD_LIBRARY_PATH: /home/sanju/ns-allinone-2.35/otcl-1.14:/home/sanju/ns-allinone-2.35/lib\n",
      "2023-04-20 11:25:48.474023: W tensorflow/compiler/tf2tensorrt/utils/py_utils.cc:38] TF-TRT Warning: Cannot dlopen some TensorRT libraries. If you would like to use Nvidia GPU with TensorRT, please make sure the missing libraries mentioned above are installed properly.\n"
     ]
    },
    {
     "name": "stdout",
     "output_type": "stream",
     "text": [
      "[name: \"/device:CPU:0\"\n",
      "device_type: \"CPU\"\n",
      "memory_limit: 268435456\n",
      "locality {\n",
      "}\n",
      "incarnation: 18318239847025182117\n",
      "xla_global_id: -1\n",
      "]\n"
     ]
    },
    {
     "name": "stderr",
     "output_type": "stream",
     "text": [
      "2023-04-20 11:25:50.585779: I tensorflow/core/platform/cpu_feature_guard.cc:193] This TensorFlow binary is optimized with oneAPI Deep Neural Network Library (oneDNN) to use the following CPU instructions in performance-critical operations:  AVX2 FMA\n",
      "To enable them in other operations, rebuild TensorFlow with the appropriate compiler flags.\n",
      "2023-04-20 11:25:50.588351: E tensorflow/compiler/xla/stream_executor/cuda/cuda_driver.cc:267] failed call to cuInit: CUDA_ERROR_UNKNOWN: unknown error\n",
      "2023-04-20 11:25:50.588380: I tensorflow/compiler/xla/stream_executor/cuda/cuda_diagnostics.cc:156] kernel driver does not appear to be running on this host (sanju-HP-Notebook): /proc/driver/nvidia/version does not exist\n"
     ]
    }
   ],
   "source": [
    "import numpy as np\n",
    "from keras.models import Sequential\n",
    "from keras.layers import Dense\n",
    "from keras.layers import LSTM\n",
    "import pandas as pd\n",
    "import os\n",
    "\n",
    "from keras.preprocessing import sequence\n",
    "np.random.seed(7)\n",
    "from keras.utils import pad_sequences\n",
    "\n",
    "from tensorflow.python.client import device_lib\n",
    "print(device_lib.list_local_devices())"
   ]
  },
  {
   "cell_type": "code",
   "execution_count": 2,
   "id": "1b78c820",
   "metadata": {},
   "outputs": [
    {
     "name": "stdout",
     "output_type": "stream",
     "text": [
      "dataset2/1/1-13.csv\n",
      "dataset2/1/1-23.csv\n",
      "dataset2/1/1-38.csv\n",
      "dataset2/1/1-12.csv\n",
      "dataset2/1/1-3.csv\n",
      "dataset2/1/1-4.csv\n",
      "dataset2/1/1-47.csv\n",
      "dataset2/1/1-17.csv\n",
      "dataset2/1/1-35.csv\n",
      "dataset2/1/1-28.csv\n",
      "dataset2/1/1-11.csv\n",
      "dataset2/1/1-39.csv\n",
      "dataset2/1/1-27.csv\n",
      "dataset2/1/1-36.csv\n",
      "dataset2/1/1-14.csv\n",
      "dataset2/1/1-18.csv\n",
      "dataset2/1/1-19.csv\n",
      "dataset2/1/1-40.csv\n",
      "dataset2/1/1-43.csv\n",
      "dataset2/1/1-8.csv\n",
      "dataset2/1/1-25.csv\n",
      "dataset2/1/1-48.csv\n",
      "dataset2/1/1-22.csv\n",
      "dataset2/1/1-2.csv\n",
      "dataset2/1/1-46.csv\n",
      "dataset2/1/1-7.csv\n",
      "dataset2/1/1-24.csv\n",
      "dataset2/1/1-31.csv\n",
      "dataset2/1/1-21.csv\n",
      "dataset2/1/1-45.csv\n",
      "dataset2/1/1-41.csv\n",
      "dataset2/1/1-37.csv\n",
      "dataset2/1/1-5.csv\n",
      "dataset2/1/1-34.csv\n",
      "dataset2/1/1-15.csv\n",
      "dataset2/1/1-16.csv\n",
      "dataset2/1/1-44.csv\n",
      "dataset2/1/1-33.csv\n",
      "dataset2/1/1-20.csv\n",
      "dataset2/1/1-1.csv\n",
      "dataset2/1/1-6.csv\n",
      "dataset2/1/1-10.csv\n",
      "dataset2/1/1-30.csv\n",
      "dataset2/1/1-32.csv\n",
      "dataset2/1/1-42.csv\n",
      "dataset2/1/1-29.csv\n",
      "dataset2/1/1-9.csv\n",
      "dataset2/1/1-26.csv\n",
      "dataset2/2/8.csv\n",
      "dataset2/2/5.csv\n",
      "dataset2/2/13.csv\n",
      "dataset2/2/14.csv\n",
      "dataset2/2/10.csv\n",
      "dataset2/2/17.csv\n",
      "dataset2/2/1.csv\n",
      "dataset2/2/3.csv\n",
      "dataset2/2/18.csv\n",
      "dataset2/2/16.csv\n",
      "dataset2/2/15.csv\n",
      "dataset2/2/4.csv\n"
     ]
    }
   ],
   "source": [
    "X=[]\n",
    "y=[]\n",
    "base_path='dataset2/'\n",
    "source_path=base_path\n",
    "for child in os.listdir(source_path):\n",
    "    sub_path = os.path.join(source_path, child)\n",
    "    if os.path.isdir(sub_path):\n",
    "        for data_file in os.listdir(sub_path):\n",
    "            file_path = os.path.join(sub_path, data_file)\n",
    "            print(file_path)\n",
    "            data=pd.read_csv(file_path,header=None)\n",
    "            data=data.to_numpy()\n",
    "            X.append(data)\n",
    "            y.append(child)           "
   ]
  },
  {
   "cell_type": "code",
   "execution_count": 3,
   "id": "eab2f471",
   "metadata": {},
   "outputs": [],
   "source": [
    "max_review_length = 70\n",
    "X_tr = pad_sequences(X, maxlen=max_review_length)"
   ]
  },
  {
   "cell_type": "code",
   "execution_count": 4,
   "id": "8cd4f821",
   "metadata": {},
   "outputs": [],
   "source": [
    "X_tr=np.array(X_tr)\n",
    "y=np.array(y)"
   ]
  },
  {
   "cell_type": "code",
   "execution_count": 5,
   "id": "3e265fef",
   "metadata": {},
   "outputs": [],
   "source": [
    "y = np.asarray(y).astype('float32').reshape((-1,1))"
   ]
  },
  {
   "cell_type": "code",
   "execution_count": 6,
   "id": "d9285303",
   "metadata": {},
   "outputs": [
    {
     "name": "stdout",
     "output_type": "stream",
     "text": [
      "Model: \"sequential\"\n",
      "_________________________________________________________________\n",
      " Layer (type)                Output Shape              Param #   \n",
      "=================================================================\n",
      " lstm (LSTM)                 (None, 70, 100)           66000     \n",
      "                                                                 \n",
      " lstm_1 (LSTM)               (None, 70, 50)            30200     \n",
      "                                                                 \n",
      " lstm_2 (LSTM)               (None, 70, 20)            5680      \n",
      "                                                                 \n",
      " lstm_3 (LSTM)               (None, 10)                1240      \n",
      "                                                                 \n",
      " dense (Dense)               (None, 1)                 11        \n",
      "                                                                 \n",
      "=================================================================\n",
      "Total params: 103,131\n",
      "Trainable params: 103,131\n",
      "Non-trainable params: 0\n",
      "_________________________________________________________________\n",
      "None\n",
      "Epoch 1/20\n",
      "4/4 [==============================] - 6s 97ms/step - loss: 0.6934 - accuracy: 0.6333\n",
      "Epoch 2/20\n",
      "4/4 [==============================] - 0s 95ms/step - loss: 0.4843 - accuracy: 0.8000\n",
      "Epoch 3/20\n",
      "4/4 [==============================] - 0s 94ms/step - loss: -0.0307 - accuracy: 0.8000\n",
      "Epoch 4/20\n",
      "4/4 [==============================] - 0s 94ms/step - loss: -1.2417 - accuracy: 0.8000\n",
      "Epoch 5/20\n",
      "4/4 [==============================] - 0s 98ms/step - loss: 0.1983 - accuracy: 0.8000\n",
      "Epoch 6/20\n",
      "4/4 [==============================] - 0s 96ms/step - loss: 0.3167 - accuracy: 0.8000\n",
      "Epoch 7/20\n",
      "4/4 [==============================] - 0s 98ms/step - loss: 1.2429 - accuracy: 0.7667\n",
      "Epoch 8/20\n",
      "4/4 [==============================] - 0s 95ms/step - loss: 3.6497 - accuracy: 0.7667\n",
      "Epoch 9/20\n",
      "4/4 [==============================] - 0s 96ms/step - loss: 0.2998 - accuracy: 0.8000\n",
      "Epoch 10/20\n",
      "4/4 [==============================] - 0s 96ms/step - loss: 0.2715 - accuracy: 0.8000\n",
      "Epoch 11/20\n",
      "4/4 [==============================] - 0s 96ms/step - loss: 0.1142 - accuracy: 0.8000\n",
      "Epoch 12/20\n",
      "4/4 [==============================] - 0s 117ms/step - loss: -0.8691 - accuracy: 0.8000\n",
      "Epoch 13/20\n",
      "4/4 [==============================] - 0s 96ms/step - loss: -74.2212 - accuracy: 0.8000\n",
      "Epoch 14/20\n",
      "4/4 [==============================] - 0s 97ms/step - loss: -102.8563 - accuracy: 0.7667\n",
      "Epoch 15/20\n",
      "4/4 [==============================] - 0s 97ms/step - loss: -6.6581 - accuracy: 0.7667\n",
      "Epoch 16/20\n",
      "4/4 [==============================] - 0s 99ms/step - loss: -0.6210 - accuracy: 0.8000\n",
      "Epoch 17/20\n",
      "4/4 [==============================] - 0s 100ms/step - loss: -0.5028 - accuracy: 0.8000\n",
      "Epoch 18/20\n",
      "4/4 [==============================] - 0s 98ms/step - loss: -0.5898 - accuracy: 0.8000\n",
      "Epoch 19/20\n",
      "4/4 [==============================] - 0s 98ms/step - loss: -0.7445 - accuracy: 0.8000\n",
      "Epoch 20/20\n",
      "4/4 [==============================] - 0s 94ms/step - loss: -0.9681 - accuracy: 0.8000\n"
     ]
    },
    {
     "data": {
      "text/plain": [
       "<keras.callbacks.History at 0x7fb53071d180>"
      ]
     },
     "execution_count": 6,
     "metadata": {},
     "output_type": "execute_result"
    }
   ],
   "source": [
    "modelClass = Sequential()\n",
    "modelClass.add(LSTM(100, return_sequences=True, input_shape=(70,64)))\n",
    "modelClass.add(LSTM(50, return_sequences=True, activation='relu'))\n",
    "modelClass.add(LSTM(20, return_sequences=True, activation='relu'))\n",
    "modelClass.add(LSTM(10, activation='relu'))\n",
    "modelClass.add(Dense(1, activation='sigmoid'))\n",
    "modelClass.compile(loss='binary_crossentropy', optimizer='adam', metrics=['accuracy'])\n",
    "print(modelClass.summary())\n",
    "modelClass.fit(X_tr, y, epochs=20, batch_size=16)"
   ]
  },
  {
   "cell_type": "code",
   "execution_count": 7,
   "id": "06c79f13",
   "metadata": {},
   "outputs": [
    {
     "name": "stdout",
     "output_type": "stream",
     "text": [
      "Accuracy: 80.00%\n"
     ]
    }
   ],
   "source": [
    "scores = modelClass.evaluate(X_tr, y, verbose=0)\n",
    "print(\"Accuracy: %.2f%%\" % (scores[1]*100))"
   ]
  },
  {
   "cell_type": "code",
   "execution_count": null,
   "id": "f1e5a216",
   "metadata": {},
   "outputs": [],
   "source": []
  }
 ],
 "metadata": {
  "kernelspec": {
   "display_name": "Python 3 (ipykernel)",
   "language": "python",
   "name": "python3"
  },
  "language_info": {
   "codemirror_mode": {
    "name": "ipython",
    "version": 3
   },
   "file_extension": ".py",
   "mimetype": "text/x-python",
   "name": "python",
   "nbconvert_exporter": "python",
   "pygments_lexer": "ipython3",
   "version": "3.10.6"
  }
 },
 "nbformat": 4,
 "nbformat_minor": 5
}
